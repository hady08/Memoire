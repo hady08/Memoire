{
 "cells": [
  {
   "cell_type": "code",
   "execution_count": 1,
   "id": "50097346-cdc7-4371-80a6-32fb94114d1f",
   "metadata": {},
   "outputs": [
    {
     "name": "stderr",
     "output_type": "stream",
     "text": [
      "C:\\Users\\admin\\AppData\\Local\\Programs\\Python\\Python311\\Lib\\site-packages\\keras\\src\\saving\\saving_lib.py:396: UserWarning: Skipping variable loading for optimizer 'rmsprop', because it has 30 variables whereas the saved optimizer has 6 variables. \n",
      "  trackable.load_own_variables(weights_store.get(inner_path))\n"
     ]
    }
   ],
   "source": [
    "from tensorflow.keras.models import load_model\n",
    "from tensorflow.keras.optimizers import Adam\n",
    "\n",
    "# Charger le modèle sauvegardé\n",
    "model = load_model(\"modele_cni.keras\")"
   ]
  },
  {
   "cell_type": "code",
   "execution_count": 2,
   "id": "2bd4d445-c461-4799-a641-b33f40125eef",
   "metadata": {},
   "outputs": [
    {
     "name": "stdout",
     "output_type": "stream",
     "text": [
      "\u001b[1m1/1\u001b[0m \u001b[32m━━━━━━━━━━━━━━━━━━━━\u001b[0m\u001b[37m\u001b[0m \u001b[1m2s\u001b[0m 2s/step\n",
      "[[0.9913839  0.00861602]]\n",
      "Predicted Class: 0\n"
     ]
    }
   ],
   "source": [
    "from tensorflow.keras.preprocessing import image\n",
    "import numpy as np\n",
    "\n",
    "# Charger l'image à tester\n",
    "img_path = \"images/CNI1.jpg\"  # Remplacez par le chemin de votre image\n",
    "img = image.load_img(img_path, target_size=(224, 224))  # Assurez-vous que la taille correspond à celle que vous avez utilisée lors de l'entraînement\n",
    "\n",
    "# Convertir l'image en tableau numpy\n",
    "img_array = image.img_to_array(img)\n",
    "\n",
    "# Ajouter une dimension supplémentaire pour créer un lot (batch) d'une seule image\n",
    "img_array = np.expand_dims(img_array, axis=0)\n",
    "\n",
    "# Normaliser les valeurs de pixel\n",
    "img_array /= 255.0  # Assurez-vous que la normalisation est la même que celle utilisée lors de l'entraînement (par exemple, 127.5 - 1 ou 255.0)\n",
    "\n",
    "# Faire une prédiction avec le modèle\n",
    "predictions = model.predict(img_array)\n",
    "\n",
    "# Afficher les prédictions\n",
    "print(predictions)\n",
    "\n",
    "# Afficher la classe prédite\n",
    "predicted_class = np.argmax(predictions)\n",
    "print(\"Predicted Class:\", predicted_class)"
   ]
  },
  {
   "cell_type": "code",
   "execution_count": 1,
   "id": "1b8f96f0-9509-475e-bd2d-d7d616d43aa4",
   "metadata": {},
   "outputs": [
    {
     "name": "stderr",
     "output_type": "stream",
     "text": [
      "C:\\Users\\admin\\AppData\\Local\\Programs\\Python\\Python311\\Lib\\site-packages\\keras\\src\\saving\\saving_lib.py:396: UserWarning: Skipping variable loading for optimizer 'rmsprop', because it has 30 variables whereas the saved optimizer has 6 variables. \n",
      "  trackable.load_own_variables(weights_store.get(inner_path))\n"
     ]
    },
    {
     "name": "stdout",
     "output_type": "stream",
     "text": [
      "Modèle chargé avec succès.\n",
      "\u001b[1m1/1\u001b[0m \u001b[32m━━━━━━━━━━━━━━━━━━━━\u001b[0m\u001b[37m\u001b[0m \u001b[1m1s\u001b[0m 1s/step\n",
      "Predicted Class: 0\n"
     ]
    }
   ],
   "source": [
    "from tensorflow.keras.models import load_model\n",
    "from tensorflow.keras.preprocessing import image\n",
    "import numpy as np\n",
    "\n",
    "def load_trained_model(model_path):\n",
    "    try:\n",
    "        model = load_model(model_path)\n",
    "        print(\"Modèle chargé avec succès.\")\n",
    "        return model\n",
    "    except Exception as e:\n",
    "        print(f\"Erreur lors du chargement du modèle : {e}\")\n",
    "        return None\n",
    "\n",
    "def preprocess_image(img_path, target_size=(224, 224)):\n",
    "    try:\n",
    "        img = image.load_img(img_path, target_size=target_size)\n",
    "        img_array = image.img_to_array(img)\n",
    "        img_array = np.expand_dims(img_array, axis=0)\n",
    "        img_array /= 255.0\n",
    "        return img_array\n",
    "    except Exception as e:\n",
    "        print(f\"Erreur lors du prétraitement de l'image : {e}\")\n",
    "        return None\n",
    "\n",
    "def predict_image_class(model, img_array):\n",
    "    if model and img_array is not None:\n",
    "        predictions = model.predict(img_array)\n",
    "        predicted_class = np.argmax(predictions)\n",
    "        return predicted_class\n",
    "    else:\n",
    "        print(\"Modèle ou image non valide.\")\n",
    "        return None\n",
    "\n",
    "if __name__ == \"__main__\":\n",
    "    model_path = \"modele_cni.keras\"\n",
    "    img_path = \"images/CNI1.jpg\"\n",
    "\n",
    "    model = load_trained_model(model_path)\n",
    "    img_array = preprocess_image(img_path)\n",
    "    predicted_class = predict_image_class(model, img_array)\n",
    "    \n",
    "    if predicted_class is not None:\n",
    "        print(\"Predicted Class:\", predicted_class)\n"
   ]
  },
  {
   "cell_type": "code",
   "execution_count": null,
   "id": "54873a88-23b2-493d-bf7a-6f6bb0022731",
   "metadata": {},
   "outputs": [],
   "source": []
  }
 ],
 "metadata": {
  "kernelspec": {
   "display_name": "Python 3 (ipykernel)",
   "language": "python",
   "name": "python3"
  },
  "language_info": {
   "codemirror_mode": {
    "name": "ipython",
    "version": 3
   },
   "file_extension": ".py",
   "mimetype": "text/x-python",
   "name": "python",
   "nbconvert_exporter": "python",
   "pygments_lexer": "ipython3",
   "version": "3.11.4"
  }
 },
 "nbformat": 4,
 "nbformat_minor": 5
}
